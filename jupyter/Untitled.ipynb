{
 "cells": [
  {
   "cell_type": "code",
   "execution_count": null,
   "id": "f23f987e-b13f-41cf-9386-d33fc81ff838",
   "metadata": {
    "tags": []
   },
   "outputs": [],
   "source": [
    "# import sys\n",
    "# !{sys.executable} -m pip install psycopg2-binary jupyterlab-plotly"
   ]
  },
  {
   "cell_type": "code",
   "execution_count": 1,
   "id": "9feb54f1-ebd3-4d66-800b-d2347bb30b16",
   "metadata": {
    "tags": []
   },
   "outputs": [],
   "source": [
    "import pandas as pd\n",
    "import numpy as np\n",
    "import psycopg2\n",
    "import pandas.io.sql as psql\n",
    "import plotly.express as px\n",
    "import plotly.graph_objects as go\n",
    "import plotly.io as pio"
   ]
  },
  {
   "cell_type": "code",
   "execution_count": 2,
   "id": "d87b53ec-b29d-4b68-a6dd-8b03e10df4cb",
   "metadata": {
    "tags": []
   },
   "outputs": [
    {
     "name": "stderr",
     "output_type": "stream",
     "text": [
      "/tmp/ipykernel_3838726/1578953232.py:2: UserWarning: pandas only supports SQLAlchemy connectable (engine/connection) or database string URI or sqlite3 DBAPI2 connection. Other DBAPI2 objects are not tested. Please consider using SQLAlchemy.\n",
      "  df = psql.read_sql_query('select * from \"messages\"',con=conn)\n",
      "/tmp/ipykernel_3838726/1578953232.py:3: UserWarning: pandas only supports SQLAlchemy connectable (engine/connection) or database string URI or sqlite3 DBAPI2 connection. Other DBAPI2 objects are not tested. Please consider using SQLAlchemy.\n",
      "  channels = psql.read_sql_query('select * from \"channels\"',con=conn)\n",
      "/tmp/ipykernel_3838726/1578953232.py:4: UserWarning: pandas only supports SQLAlchemy connectable (engine/connection) or database string URI or sqlite3 DBAPI2 connection. Other DBAPI2 objects are not tested. Please consider using SQLAlchemy.\n",
      "  users = psql.read_sql_query('select * from \"users\"',con=conn)\n"
     ]
    }
   ],
   "source": [
    "conn = psycopg2.connect(host='telegram', dbname='telegram', user='postgres', password='root')\n",
    "df = psql.read_sql_query('select * from \"messages\"',con=conn)\n",
    "channels = psql.read_sql_query('select * from \"channels\"',con=conn)\n",
    "users = psql.read_sql_query('select * from \"users\"',con=conn)"
   ]
  },
  {
   "cell_type": "code",
   "execution_count": 3,
   "id": "110154de-efbb-40ce-8a86-b4ce4c9f9893",
   "metadata": {
    "tags": []
   },
   "outputs": [],
   "source": [
    "df.sender_id = df.sender_id.astype('Int64')\n",
    "df.reply_id = df.reply_id.astype('Int64')\n",
    "df.forward_id = df.forward_id.astype('Int64')\n",
    "df.sender_type = df.sender_type.astype('Int32')\n",
    "df = df.drop(columns=['id', 'ts'])\n",
    "df = pd.merge(df, channels[['channel_id', 'title']], on='channel_id', how='left').rename(columns={'title': 'channel_title'})\n",
    "df = pd.merge(df, users[['user_id', 'first_name', 'last_name', 'username', 'phone']].rename(columns={'user_id': 'sender_id'}), on='sender_id', how='left')"
   ]
  },
  {
   "cell_type": "code",
   "execution_count": 4,
   "id": "21bff13b-20d5-4bcb-89af-f13b929f2ec2",
   "metadata": {
    "tags": []
   },
   "outputs": [
    {
     "data": {
      "text/html": [
       "<div>\n",
       "<style scoped>\n",
       "    .dataframe tbody tr th:only-of-type {\n",
       "        vertical-align: middle;\n",
       "    }\n",
       "\n",
       "    .dataframe tbody tr th {\n",
       "        vertical-align: top;\n",
       "    }\n",
       "\n",
       "    .dataframe thead th {\n",
       "        text-align: right;\n",
       "    }\n",
       "</style>\n",
       "<table border=\"1\" class=\"dataframe\">\n",
       "  <thead>\n",
       "    <tr style=\"text-align: right;\">\n",
       "      <th></th>\n",
       "      <th>create_date</th>\n",
       "      <th>channel_id</th>\n",
       "      <th>channel_title</th>\n",
       "      <th>short_action</th>\n",
       "      <th>user_count</th>\n",
       "    </tr>\n",
       "  </thead>\n",
       "  <tbody>\n",
       "    <tr>\n",
       "      <th>35</th>\n",
       "      <td>2023-05-29 04:12:13+00:00</td>\n",
       "      <td>1417395612</td>\n",
       "      <td>Beregini Chat</td>\n",
       "      <td>MessageActionChatAddUser</td>\n",
       "      <td>1444</td>\n",
       "    </tr>\n",
       "    <tr>\n",
       "      <th>399</th>\n",
       "      <td>2023-05-29 13:50:51+00:00</td>\n",
       "      <td>1417395612</td>\n",
       "      <td>Beregini Chat</td>\n",
       "      <td>MessageActionChatAddUser</td>\n",
       "      <td>1445</td>\n",
       "    </tr>\n",
       "    <tr>\n",
       "      <th>428</th>\n",
       "      <td>2023-05-29 14:12:16+00:00</td>\n",
       "      <td>1417395612</td>\n",
       "      <td>Beregini Chat</td>\n",
       "      <td>MessageActionChatAddUser</td>\n",
       "      <td>1446</td>\n",
       "    </tr>\n",
       "    <tr>\n",
       "      <th>444</th>\n",
       "      <td>2023-05-29 14:36:12+00:00</td>\n",
       "      <td>1417395612</td>\n",
       "      <td>Beregini Chat</td>\n",
       "      <td>MessageActionChatAddUser</td>\n",
       "      <td>1447</td>\n",
       "    </tr>\n",
       "    <tr>\n",
       "      <th>458</th>\n",
       "      <td>2023-05-29 15:45:34+00:00</td>\n",
       "      <td>1417395612</td>\n",
       "      <td>Beregini Chat</td>\n",
       "      <td>MessageActionChatAddUser</td>\n",
       "      <td>1448</td>\n",
       "    </tr>\n",
       "  </tbody>\n",
       "</table>\n",
       "</div>"
      ],
      "text/plain": [
       "                  create_date  channel_id  channel_title   \n",
       "35  2023-05-29 04:12:13+00:00  1417395612  Beregini Chat  \\\n",
       "399 2023-05-29 13:50:51+00:00  1417395612  Beregini Chat   \n",
       "428 2023-05-29 14:12:16+00:00  1417395612  Beregini Chat   \n",
       "444 2023-05-29 14:36:12+00:00  1417395612  Beregini Chat   \n",
       "458 2023-05-29 15:45:34+00:00  1417395612  Beregini Chat   \n",
       "\n",
       "                 short_action  user_count  \n",
       "35   MessageActionChatAddUser        1444  \n",
       "399  MessageActionChatAddUser        1445  \n",
       "428  MessageActionChatAddUser        1446  \n",
       "444  MessageActionChatAddUser        1447  \n",
       "458  MessageActionChatAddUser        1448  "
      ]
     },
     "execution_count": 4,
     "metadata": {},
     "output_type": "execute_result"
    }
   ],
   "source": [
    "df['short_action'] = df[df.action.notna()]['action'].str.extract(r'(^[^\\(]*)\\(')[0]\n",
    "temp = df.loc[(df.short_action=='MessageActionChatAddUser')|(df.short_action=='MessageActionChatDeleteUser'), ['create_date', 'channel_id', 'channel_title', 'short_action']]\n",
    "temp['user_count'] = 0\n",
    "for i in temp['channel_id'].unique():\n",
    "    j = 0\n",
    "    for index, row in temp[temp['channel_id']==i].sort_values(by='create_date').iterrows():\n",
    "      if row[\"short_action\"] == 'MessageActionChatAddUser':\n",
    "        j += 1\n",
    "        temp.at[index, 'user_count'] = j\n",
    "      if row[\"short_action\"] == 'MessageActionChatDeleteUser':\n",
    "        j -= 1\n",
    "        temp.at[index, 'user_count'] = j\n",
    "temp.head()"
   ]
  },
  {
   "cell_type": "code",
   "execution_count": null,
   "id": "feba9a90-2ed3-4749-8751-1a7859413d01",
   "metadata": {
    "tags": []
   },
   "outputs": [],
   "source": [
    "temp.groupby(['channel_title']).agg({'user_count': 'max'}).reset_index().sort_values(by='user_count', ascending=False).reset_index(drop=True)"
   ]
  },
  {
   "cell_type": "code",
   "execution_count": null,
   "id": "9b174cd2-b4b6-4f01-988a-ad44f98ece37",
   "metadata": {
    "tags": []
   },
   "outputs": [],
   "source": [
    "temp.channel_title.unique()"
   ]
  },
  {
   "cell_type": "code",
   "execution_count": null,
   "id": "520e0f9a-2f80-4ec9-9439-155a4980ae54",
   "metadata": {
    "tags": []
   },
   "outputs": [],
   "source": [
    "killnet = temp[temp.channel_title=='KILLNET ЧАТ 💎'].sort_values(by='create_date')\n",
    "noname = temp[temp.channel_title=='NoName057(16) Chat'].sort_values(by='create_date')\n",
    "killmilk = temp[temp.channel_title=='KillMilk Chat'].sort_values(by='create_date')\n",
    "beregini = temp[temp.channel_title=='Beregini Chat'].sort_values(by='create_date')\n",
    "\n",
    "fig = go.Figure()\n",
    "fig.add_trace(\n",
    "    go.Scatter(x=killnet['create_date'], y=killnet['user_count'], name='killnet')\n",
    ")\n",
    "fig.add_trace(\n",
    "    go.Scatter(x=noname['create_date'], y=noname['user_count'], name='noname')\n",
    ")\n",
    "fig.add_trace(\n",
    "    go.Scatter(x=killmilk['create_date'], y=killmilk['user_count'], name='killmilk')\n",
    ")\n",
    "fig.add_trace(\n",
    "    go.Scatter(x=beregini['create_date'], y=beregini['user_count'], name='beregini')\n",
    ")\n",
    "pio.renderers.default = 'iframe'\n",
    "fig.show()"
   ]
  },
  {
   "cell_type": "code",
   "execution_count": null,
   "id": "4780a03c-9e96-411c-9c98-73336804bdec",
   "metadata": {},
   "outputs": [],
   "source": [
    "df[df.action.isna()].groupby('channel_title').size().reset_index(name='count').sort_values(by='count', ascending=False).reset_index(drop=True).head(12)"
   ]
  },
  {
   "cell_type": "code",
   "execution_count": null,
   "id": "59755f01-5393-4080-b74b-83a12d519e89",
   "metadata": {},
   "outputs": [],
   "source": [
    "pattern = r'(https?:\\/\\/(?:www\\.)?[-a-zA-Z0-9@:%._+~#=]{1,256}\\.[a-zA-Z0-9()]{1,6}[-a-zA-Z0-9()@:%_+.~#?&/=]*)'\n",
    "tt = df[\"text\"].str.extract(pattern, expand=False).str.strip().reset_index()\n",
    "tt[tt['text'].notna()]"
   ]
  },
  {
   "cell_type": "code",
   "execution_count": null,
   "id": "6ed9897b-93fe-4dff-9a69-a0a9336ac580",
   "metadata": {},
   "outputs": [],
   "source": []
  },
  {
   "cell_type": "code",
   "execution_count": null,
   "id": "9f2b566d-6bfc-4ba2-bcf9-9e386163b951",
   "metadata": {},
   "outputs": [],
   "source": []
  },
  {
   "cell_type": "code",
   "execution_count": null,
   "id": "e239829a-574f-46f8-a536-510ca4c46b9e",
   "metadata": {},
   "outputs": [],
   "source": []
  },
  {
   "cell_type": "code",
   "execution_count": null,
   "id": "cb4c3ec4-13d0-4162-b8ef-16e3e0ad97f2",
   "metadata": {},
   "outputs": [],
   "source": []
  },
  {
   "cell_type": "code",
   "execution_count": null,
   "id": "404a245e-1b58-4a43-82ee-dd32694715e6",
   "metadata": {},
   "outputs": [],
   "source": []
  },
  {
   "cell_type": "code",
   "execution_count": null,
   "id": "0f5b7786-0146-441e-ab1e-4916d7ab2640",
   "metadata": {},
   "outputs": [],
   "source": []
  },
  {
   "cell_type": "code",
   "execution_count": null,
   "id": "ed372634-6f5c-42c4-bb43-e90e1765bd73",
   "metadata": {
    "tags": []
   },
   "outputs": [],
   "source": [
    "df[df.forward_id.notna()]"
   ]
  },
  {
   "cell_type": "code",
   "execution_count": null,
   "id": "9f3f7e74-1b59-4bf2-a7c7-2b4d1e0d6d2d",
   "metadata": {},
   "outputs": [],
   "source": [
    "df.groupby('forward_name').size().reset_index(name='count').sort_values(by='count', ascending=False).head(20)"
   ]
  },
  {
   "cell_type": "code",
   "execution_count": null,
   "id": "80ce3e4c-070f-4f2f-a688-988f44b07b17",
   "metadata": {},
   "outputs": [],
   "source": [
    "df[~df.file_extension.isin(['.tgs', '.ogg', '.png', '.oga', '.mp3', '.gif', '.m4v', '.mov', '.wav', '.m4a', '.mp4', '.webp', '.jpg'])].\\\n",
    "groupby(['filehash_sha1', 'file_extension']).size().reset_index(name='count').\\\n",
    "groupby('file_extension').size().reset_index(name='count').\\\n",
    "sort_values(by='count', ascending=False).reset_index(drop=True).head(20)"
   ]
  },
  {
   "cell_type": "code",
   "execution_count": null,
   "id": "178588ab-195a-4070-992e-2cecfb58d551",
   "metadata": {},
   "outputs": [],
   "source": [
    "df[ \n",
    "    (df.forward_id.isna()) & \n",
    "    (df['text'].str.contains('check-host.net', na=None, regex=False) == False) & \n",
    "    (df['text'].str.contains('https', na=None, regex=False))\n",
    "]"
   ]
  },
  {
   "cell_type": "code",
   "execution_count": null,
   "id": "a13600ea-93e1-4730-80ee-e741b09df65d",
   "metadata": {},
   "outputs": [],
   "source": [
    "df[ \n",
    "    (df.forward_id.isna()) & (df.channel_id==1732250465) &\n",
    "    (df['text'].str.contains('ddos', na=None, regex=False))\n",
    "]"
   ]
  },
  {
   "cell_type": "code",
   "execution_count": null,
   "id": "8c094ccc-ca65-4d6f-9b34-930b4aa3352f",
   "metadata": {},
   "outputs": [],
   "source": [
    "df[ \n",
    "    (df.forward_id.isna()) & (df.channel_id==1732250465) &\n",
    "    (\n",
    "        (df['text'].str.contains('литовс', na=None, regex=False)) | \n",
    "        (df['text'].str.contains('литв', na=None, regex=False)) | \n",
    "        (df['text'].str.contains('Литовс', na=None, regex=False)) |\n",
    "        (df['text'].str.contains('Литв', na=None, regex=False))\n",
    "    )\n",
    "].sort_values(by='create_date').to_csv(\"output.csv\")"
   ]
  },
  {
   "cell_type": "code",
   "execution_count": null,
   "id": "78dad30a-5377-4cec-bba2-398e1c0b697e",
   "metadata": {},
   "outputs": [],
   "source": [
    "df[(df.forward_id.notna())].groupby('sender_id').size().reset_index(name='count').sort_values(by='count', ascending=False).head(50)"
   ]
  },
  {
   "cell_type": "code",
   "execution_count": null,
   "id": "fa88869d-62f4-4dc8-a221-4a3bed6dc98c",
   "metadata": {
    "tags": []
   },
   "outputs": [],
   "source": [
    "df[ \n",
    "    (df.forward_id.isna()) & (df.channel_id==1732250465) &\n",
    "    (\n",
    "        (df['text'].str.contains('литовс', na=None, regex=False)) | \n",
    "        (df['text'].str.contains('литв', na=None, regex=False)) | \n",
    "        (df['text'].str.contains('Литовс', na=None, regex=False)) |\n",
    "        (df['text'].str.contains('Литв', na=None, regex=False))\n",
    "    )\n",
    "].sort_values(by='create_date')"
   ]
  }
 ],
 "metadata": {
  "kernelspec": {
   "display_name": "Python 3 (ipykernel)",
   "language": "python",
   "name": "python3"
  },
  "language_info": {
   "codemirror_mode": {
    "name": "ipython",
    "version": 3
   },
   "file_extension": ".py",
   "mimetype": "text/x-python",
   "name": "python",
   "nbconvert_exporter": "python",
   "pygments_lexer": "ipython3",
   "version": "3.10.10"
  }
 },
 "nbformat": 4,
 "nbformat_minor": 5
}
